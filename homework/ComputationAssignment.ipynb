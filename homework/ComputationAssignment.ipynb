{
 "cells": [
  {
   "cell_type": "code",
   "execution_count": 1,
   "id": "61ba6652-37a5-49ec-93d3-df2ec47c8aea",
   "metadata": {},
   "outputs": [],
   "source": [
    "import numpy as np\n",
    "import matplotlib.pyplot as plt"
   ]
  },
  {
   "cell_type": "markdown",
   "id": "758d2674-eb5c-4744-9552-71ee69656626",
   "metadata": {},
   "source": [
    "# PHYS 501 Computation Assignment - Bead on a Spinning Hoop\n",
    "### Name: Jacob Buchanan\n",
    "\n",
    "**Part I:** Construct the Lagrangian to describe the system given by Taylor Figure 7.9, and use the Lagrange equations to write the equation of motion for the bead."
   ]
  },
  {
   "cell_type": "markdown",
   "id": "1e3df65f-c6b2-41a7-910a-bdc460f837df",
   "metadata": {},
   "source": [
    "## Solution to Part I:\n",
    "\n",
    "The Lagrangian is defined as\n",
    "\n",
    "$\\mathcal{L}=T-U$.\n",
    "\n",
    "First, we should find the kinetic energy of the bead. The general form of kinetic energy is\n",
    "\n",
    "$T=\\frac{1}{2}mv^2$.\n",
    "\n",
    "The velocity has a component along the wire and normal to the wire (due to the spinning of the hoop). The component along the wire is a centripital velocity, so $v=R\\dot{\\theta}$. The normal component is an angular velocity of the form $v=r\\times \\omega$. In this case, $r$ is equivalent to $\\rho=R\\sin{\\theta}$. This makes the velocity $v=\\rho\\omega=R\\omega\\sin{\\theta}$. Combining these gives a kinetic energy\n",
    "\n",
    "$T=\\frac{1}{2}mR^2(\\dot{\\theta}^2+\\omega^2\\sin^2{\\theta})$.\n",
    "\n",
    "The potential energy has the form $U=mgh$. In this case, the value of $h$ ranges from $0$ to $R$ and depends on the cosine of $\\theta$, or $h=R(1-\\cos{\\theta})$. This leads to a potential energy\n",
    "\n",
    "$U=mgR(1-\\cos{\\theta})$.\n",
    "\n",
    "Therefore, our Lagrangian for the system is\n",
    "\n",
    "$$\\mathcal{L}=\\frac{1}{2}mR^2(\\dot{\\theta}^2+\\omega^2\\sin^2{\\theta})-mgR(1-\\cos{\\theta}).$$\n",
    "\n",
    "The only variable here is $\\theta$, so only one Lagrange equation is necessary. That equation,\n",
    "\n",
    "$$\\frac{\\delta \\mathcal{L}}{\\delta \\theta}=\\frac{d}{dt}\\left(\\frac{\\delta \\mathcal{L}}{\\delta \\dot{\\theta}}\\right),$$\n",
    "\n",
    "will give the equation of motion.\n",
    "\n",
    "Starting with the left derivative,\n",
    "\n",
    "$$\\frac{\\delta \\mathcal{L}}{\\delta \\theta}=mR^2\\omega^2\\sin{\\theta}\\cos{\\theta}-mgR\\sin{\\theta}.$$\n",
    "\n",
    "The right side is simpler,\n",
    "\n",
    "$$\\frac{d}{dt}\\left(\\frac{\\delta \\mathcal{L}}{\\delta \\dot{\\theta}}\\right)=\\frac{d}{dt}\\left(mR^2\\dot{\\theta}\\right)=mR^2\\ddot{\\theta}.$$\n",
    "\n",
    "Combining these gives \n",
    "\n",
    "$$mR^2\\ddot{\\theta}=mR^2\\omega^2\\sin{\\theta}\\cos{\\theta}-mgR\\sin{\\theta},$$\n",
    "\n",
    "which can be simplified to\n",
    "\n",
    "$$\\ddot{\\theta}=\\omega^2\\sin{\\theta}\\cos{\\theta}-\\frac{g}{R}\\sin{\\theta}.$$"
   ]
  },
  {
   "cell_type": "markdown",
   "id": "c7ab038d-1d0a-4662-9da5-8c5de9c4fe86",
   "metadata": {},
   "source": [
    "**Part II: Write a numerical solution to numerically solve the equation of motion**"
   ]
  },
  {
   "cell_type": "code",
   "execution_count": 6,
   "id": "193c529b-adea-42be-8a11-331748f824a9",
   "metadata": {},
   "outputs": [],
   "source": [
    "# First, define the constants, initial conditions, etc.\n",
    "\n",
    "theta_0 = np.pi/4\n",
    "speed_0 = 0\n",
    "g = 9.8\n",
    "w = 3\n",
    "r = 5\n",
    "\n",
    "# Define the start and stop times, as well as the step between points\n",
    "start = 0\n",
    "stop = 10\n",
    "step = 0.01"
   ]
  },
  {
   "cell_type": "code",
   "execution_count": 5,
   "id": "973a3bc2-9ed2-4694-9e4a-824eaf72136d",
   "metadata": {},
   "outputs": [],
   "source": [
    "# Define the function for the equation of motion\n",
    "\n",
    "def theta_ddot(theta):\n",
    "    return w^2*np.sin(theta)*np.cos(theta)-(g/r)*np.sin(theta)"
   ]
  },
  {
   "cell_type": "markdown",
   "id": "8c0128e3-6f07-4334-ab6d-074fa1b6be35",
   "metadata": {},
   "source": [
    "**Euler's Method**"
   ]
  },
  {
   "cell_type": "code",
   "execution_count": null,
   "id": "c82a3172-000c-418d-92c7-f5ada9258a05",
   "metadata": {},
   "outputs": [],
   "source": []
  }
 ],
 "metadata": {
  "kernelspec": {
   "display_name": "Python 3 (ipykernel)",
   "language": "python",
   "name": "python3"
  },
  "language_info": {
   "codemirror_mode": {
    "name": "ipython",
    "version": 3
   },
   "file_extension": ".py",
   "mimetype": "text/x-python",
   "name": "python",
   "nbconvert_exporter": "python",
   "pygments_lexer": "ipython3",
   "version": "3.9.12"
  }
 },
 "nbformat": 4,
 "nbformat_minor": 5
}
