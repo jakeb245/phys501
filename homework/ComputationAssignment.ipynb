{
 "cells": [
  {
   "cell_type": "markdown",
   "id": "758d2674-eb5c-4744-9552-71ee69656626",
   "metadata": {},
   "source": [
    "# PHYS 501 Computation Assignment - Bead on a Spinning Hoop\n",
    "### Name: Jacob Buchanan\n",
    "\n",
    "**Part 1:** Construct the Lagrangian to describe the system given by Taylor Figure 7.9, and use the Lagrange equations to write the equation of motion for the bead."
   ]
  },
  {
   "cell_type": "markdown",
   "id": "1e3df65f-c6b2-41a7-910a-bdc460f837df",
   "metadata": {},
   "source": [
    "## Solution to Part 1:\n",
    "\n",
    "The Lagrangian, of course, is defined as\n",
    "\n",
    "$\\mathcal{L}=T-U$.\n",
    "\n",
    "First, we should find the kinetic energy of the bead. The general form of kinetic energy is\n",
    "\n",
    "$T=\\frac{1}{2}mv^2$.\n",
    "\n",
    "The velocity has a component along the wire and normal to the wire (due to the spinning of the hoop). The component along the wire is a centripital velocity, so $v=R\\dot{\\theta}$. The normal component is an angular velocity of the form $v=r\\times \\omega$. In this case, $r$ is equivalent to $\\rho=R\\sin{\\theta}$. This makes the velocity $v=\\rho\\omega=R\\omega\\sin{\\theta}$. Combining these gives a kinetic energy\n",
    "\n",
    "$T=\\frac{1}{2}mR^2(\\dot{\\theta}^2+\\omega^2\\sin^2{\\theta})$.\n",
    "\n",
    "The potential energy has the form $U=mgh$. In this case, the value of $h$ ranges from $0$ to $R$ and depends on the cosine of $\\theta$, or $h=R(1-\\cos{\\theta})$. This leads to a potential energy\n",
    "\n",
    "$U=mgR(1-\\cos{\\theta})$.\n",
    "\n",
    "Therefore, our Lagrangian for the system is\n",
    "\n",
    "$$\\mathcal{L}=\\frac{1}{2}mR^2(\\dot{\\theta}^2+\\omega^2\\sin^2{\\theta})-mgR(1-\\cos{\\theta}).$$\n",
    "\n",
    "The only variable here is $\\theta$, so only one Lagrange equation is necessary. That equation,\n",
    "\n",
    "$$\\frac{\\delta \\mathcal{L}}{\\delta \\theta}=\\frac{d}{dt}\\left(\\frac{\\delta \\mathcal{L}}{\\delta \\dot{\\theta}}\\right),$$\n",
    "\n",
    "will give the equation of motion.\n",
    "\n",
    "Starting with the left derivative,\n",
    "\n",
    "$$\\frac{\\delta \\mathcal{L}}{\\delta \\theta}=mR^2\\omega^2\\sin{\\theta}\\cos{\\theta}-mgR\\sin{\\theta}.$$\n",
    "\n",
    "The right side is simpler,\n",
    "\n",
    "$$\\frac{d}{dt}\\left(\\frac{\\delta \\mathcal{L}}{\\delta \\dot{\\theta}}\\right)=\\frac{d}{dt}\\left(mR^2\\dot{\\theta}\\right)=mR^2\\ddot{\\theta}.$$\n",
    "\n",
    "Combining these gives"
   ]
  },
  {
   "cell_type": "code",
   "execution_count": null,
   "id": "4438f28d-152f-4926-9d52-2d035cd8737e",
   "metadata": {},
   "outputs": [],
   "source": []
  }
 ],
 "metadata": {
  "kernelspec": {
   "display_name": "Python 3 (ipykernel)",
   "language": "python",
   "name": "python3"
  },
  "language_info": {
   "codemirror_mode": {
    "name": "ipython",
    "version": 3
   },
   "file_extension": ".py",
   "mimetype": "text/x-python",
   "name": "python",
   "nbconvert_exporter": "python",
   "pygments_lexer": "ipython3",
   "version": "3.9.12"
  }
 },
 "nbformat": 4,
 "nbformat_minor": 5
}
